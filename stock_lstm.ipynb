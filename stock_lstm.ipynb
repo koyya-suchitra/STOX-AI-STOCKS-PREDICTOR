{
 "cells": [
  {
   "cell_type": "code",
   "execution_count": null,
   "id": "599ac615",
   "metadata": {},
   "outputs": [
    {
     "name": "stderr",
     "output_type": "stream",
     "text": [
      "C:\\Users\\suchi\\AppData\\Local\\Temp\\ipykernel_16988\\1221553121.py:17: FutureWarning: YF.download() has changed argument auto_adjust default to True\n",
      "  df = yf.download(ticker, start='2018-01-01', end=today)\n",
      "[*********************100%***********************]  1 of 1 completed\n",
      "C:\\Users\\suchi\\AppData\\Roaming\\Python\\Python312\\site-packages\\keras\\src\\layers\\rnn\\rnn.py:200: UserWarning: Do not pass an `input_shape`/`input_dim` argument to a layer. When using Sequential models, prefer using an `Input(shape)` object as the first layer in the model instead.\n",
      "  super().__init__(**kwargs)\n"
     ]
    },
    {
     "name": "stdout",
     "output_type": "stream",
     "text": [
      "Epoch 1/10\n"
     ]
    }
   ],
   "source": [
    "# stock_lstm.ipynb (Jupyter Notebook)\n",
    "\n",
    "# 1. Imports\n",
    "import numpy as np\n",
    "import pandas as pd\n",
    "import yfinance as yf\n",
    "import datetime\n",
    "import matplotlib.pyplot as plt\n",
    "from sklearn.preprocessing import MinMaxScaler\n",
    "from tensorflow.keras.models import Sequential\n",
    "from tensorflow.keras.layers import LSTM, Dense, Dropout\n",
    "import os\n",
    "\n",
    "# 2. Fetch Data\n",
    "today = datetime.date.today()\n",
    "ticker = 'TSLA'  # Change to any company, e.g., 'INFY.NS', 'GOOGL'\n",
    "df = yf.download(ticker, start='2018-01-01', end=today)\n",
    "\n",
    "# 3. Technical Indicators\n",
    "df['MA50'] = df['Close'].rolling(50).mean()\n",
    "delta = df['Close'].diff()\n",
    "gain = delta.where(delta > 0, 0).rolling(14).mean()\n",
    "loss = -delta.where(delta < 0, 0).rolling(14).mean()\n",
    "rs = gain / loss\n",
    "df['RSI'] = 100 - (100 / (1 + rs))\n",
    "\n",
    "# 4. Drop missing rows\n",
    "df = df[['Close', 'MA50', 'RSI']].dropna()\n",
    "\n",
    "# 5. Normalize\n",
    "data = df.copy()\n",
    "scaler = MinMaxScaler()\n",
    "scaled = scaler.fit_transform(data)\n",
    "\n",
    "# 6. Create Sequences\n",
    "look_back = 60\n",
    "X, y = [], []\n",
    "for i in range(look_back, len(scaled)):\n",
    "    X.append(scaled[i-look_back:i])\n",
    "    y.append(scaled[i, 0])\n",
    "X, y = np.array(X), np.array(y)\n",
    "\n",
    "# 7. Build Model\n",
    "model = Sequential([\n",
    "    LSTM(50, return_sequences=True, input_shape=(X.shape[1], X.shape[2])),\n",
    "    Dropout(0.2),\n",
    "    LSTM(50),\n",
    "    Dropout(0.2),\n",
    "    Dense(1)\n",
    "])\n",
    "model.compile(optimizer='adam', loss='mean_squared_error')\n",
    "\n",
    "# 8. Train Model\n",
    "model.fit(X, y, epochs=10, batch_size=32)\n",
    "\n",
    "# 9. Predict & Plot\n",
    "predicted = model.predict(X)\n",
    "predicted_close = scaler.inverse_transform(\n",
    "    np.concatenate([predicted, np.zeros((predicted.shape[0], 2))], axis=1)\n",
    ")[:, 0]\n",
    "\n",
    "actual_close = scaler.inverse_transform(\n",
    "    np.concatenate([y.reshape(-1, 1), np.zeros((y.shape[0], 2))], axis=1)\n",
    ")[:, 0]\n",
    "\n",
    "plt.figure(figsize=(14, 6))\n",
    "plt.plot(actual_close, label='Actual Close')\n",
    "plt.plot(predicted_close, label='Predicted Close')\n",
    "plt.title(f'LSTM Prediction with MA50 & RSI for {ticker}')\n",
    "plt.legend()\n",
    "plt.show()\n",
    "\n",
    "# 10. Save Model\n",
    "os.makedirs(\"model\", exist_ok=True)\n",
    "model.save(\"model/lstm_model.h5\")"
   ]
  },
  {
   "cell_type": "code",
   "execution_count": null,
   "id": "fa1a7359",
   "metadata": {},
   "outputs": [],
   "source": []
  }
 ],
 "metadata": {
  "kernelspec": {
   "display_name": "Python 3",
   "language": "python",
   "name": "python3"
  },
  "language_info": {
   "codemirror_mode": {
    "name": "ipython",
    "version": 3
   },
   "file_extension": ".py",
   "mimetype": "text/x-python",
   "name": "python",
   "nbconvert_exporter": "python",
   "pygments_lexer": "ipython3",
   "version": "3.12.4"
  }
 },
 "nbformat": 4,
 "nbformat_minor": 5
}
